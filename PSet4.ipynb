{
 "cells": [
  {
   "cell_type": "code",
   "execution_count": 13,
   "id": "acecd6ec-9f58-44b3-a7ea-3440587ab76c",
   "metadata": {
    "tags": []
   },
   "outputs": [
    {
     "name": "stdin",
     "output_type": "stream",
     "text": [
      "Enter a keyword to find a dad joke about it! (or enter 'exit' to quit):  world\n"
     ]
    },
    {
     "name": "stdout",
     "output_type": "stream",
     "text": [
      "Here's your dad joke:\n",
      "What is the tallest building in the world? The library – it’s got the most stories!\n"
     ]
    },
    {
     "name": "stdin",
     "output_type": "stream",
     "text": [
      "Would you like to search for another joke? (yes/no):  yes\n",
      "Enter a keyword to find a dad joke about it! (or enter 'exit' to quit):  book\n"
     ]
    },
    {
     "name": "stdout",
     "output_type": "stream",
     "text": [
      "Here's your dad joke:\n",
      "It's been months since I bought the book \"how to scam people online\". It still hasn't turned up.\n"
     ]
    },
    {
     "name": "stdin",
     "output_type": "stream",
     "text": [
      "Would you like to search for another joke? (yes/no):  no\n"
     ]
    },
    {
     "name": "stdout",
     "output_type": "stream",
     "text": [
      "Goodbye!\n"
     ]
    }
   ],
   "source": [
    "# Problem Set 4\n",
    "# Using icanhazdadjoke to find random jokes based on user-inputted keywords\n",
    "\n",
    "import requests\n",
    "\n",
    "# Set the API URL for searching jokes\n",
    "url = \"https://icanhazdadjoke.com/search\"\n",
    "\n",
    "# Set headers to accept JSON format\n",
    "headers = {\"Accept\": \"application/json\"}\n",
    "\n",
    "while True:\n",
    "    # Request user input for a keyword\n",
    "    search_term = input(\"Enter a keyword to find a dad joke about it! (or enter 'exit' to quit): \")\n",
    "    \n",
    "    # Check if the user wants to quit\n",
    "    if search_term.lower() == 'exit':\n",
    "        print(\"Goodbye!\")\n",
    "        break\n",
    "\n",
    "    # Define parameters\n",
    "    params = {\"term\": search_term, \"limit\": 1}  # Fetch one joke matching the keyword\n",
    "\n",
    "    # Make a request\n",
    "    response = requests.get(url, headers=headers, params=params)\n",
    "\n",
    "    # Check if the request was successful\n",
    "    if response.status_code == 200:\n",
    "        jokes = response.json().get(\"results\")  # Get the list of jokes from the response\n",
    "        if jokes:\n",
    "            print(\"Here's your dad joke:\")\n",
    "            for joke in jokes:\n",
    "                print(joke[\"joke\"])  # If there are any jokes in the results, it will be printed\n",
    "        else: \n",
    "            print(\"No jokes were found for this term. Try again!\") # If no jokes, this message will be printed\n",
    "    else: \n",
    "        print(\"Failed to retrieve a joke. Try again!\") # If an error occurs, this message will be printed\n",
    "    \n",
    "    # Ask if they want to search again\n",
    "    continue_search = input(\"Would you like to search for another joke? (yes/no): \") # Asks the user if they would like to search again\n",
    "    if continue_search.lower() != 'yes':\n",
    "        print(\"Goodbye!\") # If they do not say yes, the loop will stop. If they say yes, they will be prompted to enter another word.\n",
    "        break"
   ]
  }
 ],
 "metadata": {
  "kernelspec": {
   "display_name": "UFRC Python-3.10",
   "language": "python",
   "name": "python3-3.10-ufrc"
  },
  "language_info": {
   "codemirror_mode": {
    "name": "ipython",
    "version": 3
   },
   "file_extension": ".py",
   "mimetype": "text/x-python",
   "name": "python",
   "nbconvert_exporter": "python",
   "pygments_lexer": "ipython3",
   "version": "3.10.8"
  }
 },
 "nbformat": 4,
 "nbformat_minor": 5
}
